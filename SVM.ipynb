{
  "nbformat": 4,
  "nbformat_minor": 0,
  "metadata": {
    "colab": {
      "name": "SVM",
      "provenance": [],
      "collapsed_sections": [],
      "include_colab_link": true
    },
    "kernelspec": {
      "name": "python3",
      "display_name": "Python 3"
    }
  },
  "cells": [
    {
      "cell_type": "markdown",
      "metadata": {
        "id": "view-in-github",
        "colab_type": "text"
      },
      "source": [
        "<a href=\"https://colab.research.google.com/github/ManishaKumari96/hello-world/blob/master/SVM.ipynb\" target=\"_parent\"><img src=\"https://colab.research.google.com/assets/colab-badge.svg\" alt=\"Open In Colab\"/></a>"
      ]
    },
    {
      "cell_type": "code",
      "metadata": {
        "id": "sOOAyaL68fmp",
        "colab_type": "code",
        "colab": {}
      },
      "source": [
        "import matplotlib.pyplot as plt\n",
        "from matplotlib import style\n",
        "style.use('ggplot')\n",
        "import seaborn as sns\n",
        "import numpy as np\n",
        "import pandas as pd"
      ],
      "execution_count": 0,
      "outputs": []
    },
    {
      "cell_type": "code",
      "metadata": {
        "id": "CnaOXTMA9BtN",
        "colab_type": "code",
        "colab": {}
      },
      "source": [
        "from sklearn.datasets.samples_generator import make_blobs"
      ],
      "execution_count": 0,
      "outputs": []
    },
    {
      "cell_type": "code",
      "metadata": {
        "id": "5c7VtRDH9Bvz",
        "colab_type": "code",
        "outputId": "9e30f036-6a6f-4355-e63f-32db62d6f6dc",
        "colab": {
          "base_uri": "https://localhost:8080/",
          "height": 269
        }
      },
      "source": [
        "x,y=make_blobs(n_samples=50,centers=2,random_state=0,cluster_std=0.60)\n",
        "plt.scatter(x[:,0],x[:,1],c=y,s=50,cmap='autumn')\n",
        "plt.show()"
      ],
      "execution_count": 0,
      "outputs": [
        {
          "output_type": "display_data",
          "data": {
            "image/png": "[encoded data removed]",
            "text/plain": [
              "<Figure size 432x288 with 1 Axes>"
            ]
          },
          "metadata": {
            "tags": []
          }
        }
      ]
    },
    {
      "cell_type": "code",
      "metadata": {
        "id": "G04iPtvj9ByT",
        "colab_type": "code",
        "outputId": "aba2e33f-2b16-4411-b20f-343100584ee7",
        "colab": {
          "base_uri": "https://localhost:8080/",
          "height": 884
        }
      },
      "source": [
        "x"
      ],
      "execution_count": 0,
      "outputs": [
        {
          "output_type": "execute_result",
          "data": {
            "text/plain": [
              "array([[ 1.41281595,  1.5303347 ],\n",
              "       [ 1.81336135,  1.6311307 ],\n",
              "       [ 1.43289271,  4.37679234],\n",
              "       [ 1.87271752,  4.18069237],\n",
              "       [ 2.09517785,  1.0791468 ],\n",
              "       [ 2.73890793,  0.15676817],\n",
              "       [ 3.18515794,  0.08900822],\n",
              "       [ 2.06156753,  1.96918596],\n",
              "       [ 2.03835818,  1.15466278],\n",
              "       [-0.04749204,  5.47425256],\n",
              "       [ 1.71444449,  5.02521524],\n",
              "       [ 0.22459286,  4.77028154],\n",
              "       [ 1.06923853,  4.53068484],\n",
              "       [ 1.53278923,  0.55035386],\n",
              "       [ 1.4949318 ,  3.85848832],\n",
              "       [ 1.1641107 ,  3.79132988],\n",
              "       [ 0.74387399,  4.12240568],\n",
              "       [ 2.29667251,  0.48677761],\n",
              "       [ 0.44359863,  3.11530945],\n",
              "       [ 0.91433877,  4.55014643],\n",
              "       [ 1.67467427,  0.68001896],\n",
              "       [ 2.26908736,  1.32160756],\n",
              "       [ 1.5108885 ,  0.9288309 ],\n",
              "       [ 1.65179125,  0.68193176],\n",
              "       [ 2.49272186,  0.97505341],\n",
              "       [ 2.33812285,  3.43116792],\n",
              "       [ 0.67047877,  4.04094275],\n",
              "       [-0.55552381,  4.69595848],\n",
              "       [ 2.16172321,  0.6565951 ],\n",
              "       [ 2.09680487,  3.7174206 ],\n",
              "       [ 2.18023251,  1.48364708],\n",
              "       [ 0.43899014,  4.53592883],\n",
              "       [ 1.24258802,  4.50399192],\n",
              "       [ 0.00793137,  4.17614316],\n",
              "       [ 1.89593761,  5.18540259],\n",
              "       [ 1.868336  ,  0.93136287],\n",
              "       [ 2.13141478,  1.13885728],\n",
              "       [ 1.06269622,  5.17635143],\n",
              "       [ 2.33466499, -0.02408255],\n",
              "       [ 0.669787  ,  3.59540802],\n",
              "       [ 1.07714851,  1.17533301],\n",
              "       [ 1.54632313,  4.212973  ],\n",
              "       [ 1.56737975, -0.1381059 ],\n",
              "       [ 1.35617762,  1.43815955],\n",
              "       [ 1.00372519,  4.19147702],\n",
              "       [ 1.29297652,  1.47930168],\n",
              "       [ 2.94821884,  2.03519717],\n",
              "       [ 0.3471383 ,  3.45177657],\n",
              "       [ 2.76253526,  0.78970876],\n",
              "       [ 0.76752279,  4.39759671]])"
            ]
          },
          "metadata": {
            "tags": []
          },
          "execution_count": 51
        }
      ]
    },
    {
      "cell_type": "code",
      "metadata": {
        "id": "DLUQapNN9B1D",
        "colab_type": "code",
        "outputId": "de27ed64-4542-411c-d4f4-55fe10cfda8b",
        "colab": {
          "base_uri": "https://localhost:8080/",
          "height": 69
        }
      },
      "source": [
        "y"
      ],
      "execution_count": 0,
      "outputs": [
        {
          "output_type": "execute_result",
          "data": {
            "text/plain": [
              "array([1, 1, 0, 0, 1, 1, 1, 1, 1, 0, 0, 0, 0, 1, 0, 0, 0, 1, 0, 0, 1, 1,\n",
              "       1, 1, 1, 0, 0, 0, 1, 0, 1, 0, 0, 0, 0, 1, 1, 0, 1, 0, 1, 0, 1, 1,\n",
              "       0, 1, 1, 0, 1, 0])"
            ]
          },
          "metadata": {
            "tags": []
          },
          "execution_count": 52
        }
      ]
    },
    {
      "cell_type": "code",
      "metadata": {
        "id": "VTm-hsjS9B3b",
        "colab_type": "code",
        "outputId": "1ade3230-4452-4f94-e081-6c29c1f9b500",
        "colab": {
          "base_uri": "https://localhost:8080/",
          "height": 269
        }
      },
      "source": [
        "xfit=np.linspace(-1,3.5)\n",
        "plt.scatter(x[:,0],x[:,1],c=y,s=50,cmap='autumn')\n",
        "plt.plot([0.6],[2.1],'x',color='red',markeredgewidth=3,markersize=10) # for new data \n",
        "\n",
        "for m,b in [(1,0.65),(0.5,1.6),(-0.2,2.9)]:  #y=mx+c\n",
        "  plt.plot(xfit,m* xfit+b,'-k')\n",
        "  \n",
        "  \n",
        "plt.xlim(-1,3.5)\n",
        "plt.show()"
      ],
      "execution_count": 0,
      "outputs": [
        {
          "output_type": "display_data",
          "data": {
            "image/png": "[encoded data removed]",
            "text/plain": [
              "<Figure size 432x288 with 1 Axes>"
            ]
          },
          "metadata": {
            "tags": []
          }
        }
      ]
    },
    {
      "cell_type": "code",
      "metadata": {
        "id": "77Xa0oph9B59",
        "colab_type": "code",
        "outputId": "088f4db5-a89a-4c9a-80cc-47bf5c455b1e",
        "colab": {
          "base_uri": "https://localhost:8080/",
          "height": 191
        }
      },
      "source": [
        "xfit"
      ],
      "execution_count": 0,
      "outputs": [
        {
          "output_type": "execute_result",
          "data": {
            "text/plain": [
              "array([-1.        , -0.90816327, -0.81632653, -0.7244898 , -0.63265306,\n",
              "       -0.54081633, -0.44897959, -0.35714286, -0.26530612, -0.17346939,\n",
              "       -0.08163265,  0.01020408,  0.10204082,  0.19387755,  0.28571429,\n",
              "        0.37755102,  0.46938776,  0.56122449,  0.65306122,  0.74489796,\n",
              "        0.83673469,  0.92857143,  1.02040816,  1.1122449 ,  1.20408163,\n",
              "        1.29591837,  1.3877551 ,  1.47959184,  1.57142857,  1.66326531,\n",
              "        1.75510204,  1.84693878,  1.93877551,  2.03061224,  2.12244898,\n",
              "        2.21428571,  2.30612245,  2.39795918,  2.48979592,  2.58163265,\n",
              "        2.67346939,  2.76530612,  2.85714286,  2.94897959,  3.04081633,\n",
              "        3.13265306,  3.2244898 ,  3.31632653,  3.40816327,  3.5       ])"
            ]
          },
          "metadata": {
            "tags": []
          },
          "execution_count": 54
        }
      ]
    },
    {
      "cell_type": "code",
      "metadata": {
        "id": "sBwYwQXD9B8W",
        "colab_type": "code",
        "outputId": "e0222928-9894-4e2b-9ed4-5eb38c8edf78",
        "colab": {
          "base_uri": "https://localhost:8080/",
          "height": 35
        }
      },
      "source": [
        "len(xfit)"
      ],
      "execution_count": 0,
      "outputs": [
        {
          "output_type": "execute_result",
          "data": {
            "text/plain": [
              "50"
            ]
          },
          "metadata": {
            "tags": []
          },
          "execution_count": 55
        }
      ]
    },
    {
      "cell_type": "code",
      "metadata": {
        "id": "Xd53LJIXEffb",
        "colab_type": "code",
        "outputId": "4376152c-7cb9-4998-8d09-c567da8ae410",
        "colab": {
          "base_uri": "https://localhost:8080/",
          "height": 269
        }
      },
      "source": [
        "xfit=np.linspace(-1,3.5)\n",
        "plt.scatter(x[:,0],x[:,1],c=y,s=50,cmap='autumn')\n",
        "plt.plot([0.6],[2.1],'x',color='red',markeredgewidth=3,markersize=10) # for new data \n",
        "\n",
        "for m,b,d  in [(1,0.65,0.6),(0.5,1.6,0.9),(-0.2,2.9,0.6)]:  #y=mx+c\n",
        "  plt.plot(xfit,m* xfit+b,'-k')\n",
        "  plt.fill_between(xfit,(m* xfit+b)-d,(m* xfit+b)+d,color='blue',alpha=0.1)\n",
        "  \n",
        "plt.xlim(-1,3.5)\n",
        "plt.show()"
      ],
      "execution_count": 0,
      "outputs": [
        {
          "output_type": "display_data",
          "data": {
            "image/png": "[encoded data removed]",
            "text/plain": [
              "<Figure size 432x288 with 1 Axes>"
            ]
          },
          "metadata": {
            "tags": []
          }
        }
      ]
    },
    {
      "cell_type": "code",
      "metadata": {
        "id": "5lv5pOTKEfh6",
        "colab_type": "code",
        "outputId": "da7f31c9-51f4-468f-df6d-c68e3f37660e",
        "colab": {
          "base_uri": "https://localhost:8080/",
          "height": 87
        }
      },
      "source": [
        "from sklearn.svm import SVC\n",
        "model=SVC(kernel='linear',C=1E10) #error rate\n",
        "model.fit(x,y)\n"
      ],
      "execution_count": 0,
      "outputs": [
        {
          "output_type": "execute_result",
          "data": {
            "text/plain": [
              "SVC(C=10000000000.0, cache_size=200, class_weight=None, coef0=0.0,\n",
              "    decision_function_shape='ovr', degree=3, gamma='auto_deprecated',\n",
              "    kernel='linear', max_iter=-1, probability=False, random_state=None,\n",
              "    shrinking=True, tol=0.001, verbose=False)"
            ]
          },
          "metadata": {
            "tags": []
          },
          "execution_count": 57
        }
      ]
    },
    {
      "cell_type": "code",
      "metadata": {
        "id": "xPscGEqiEfkU",
        "colab_type": "code",
        "colab": {}
      },
      "source": [
        "def plot_svc_decision_function(model, ax=None, plot_support=True):\n",
        "    \"\"\"Plot the decision function for a 2D SVC\"\"\"\n",
        "    if ax is None:\n",
        "        ax = plt.gca()\n",
        "    xlim = ax.get_xlim()\n",
        "    ylim = ax.get_ylim()\n",
        "    \n",
        "    # create grid to evaluate model\n",
        "    x = np.linspace(xlim[0], xlim[1], 30)# xlim=x.min,x.max\n",
        "    y = np.linspace(ylim[0], ylim[1], 30)\n",
        "    Y, X = np.meshgrid(y, x)\n",
        "    xy = np.vstack([X.ravel(), Y.ravel()]).T\n",
        "    P = model.decision_function(xy).reshape(X.shape)\n",
        "    \n",
        "    # plot decision boundary and margins\n",
        "    ax.contour(X, Y, P, colors='k',\n",
        "               levels=[-1, 0, 1], alpha=0.5,\n",
        "               linestyles=['--', '-', '--'])\n",
        "    \n",
        "    # plot support vectors\n",
        "    if plot_support:\n",
        "        ax.scatter(model.support_vectors_[:, 0], model.support_vectors_[:, 1],\n",
        "                   s=300, linewidth=1, facecolors='none');\n",
        "    ax.set_xlim(xlim)\n",
        "    ax.set_ylim(ylim)"
      ],
      "execution_count": 0,
      "outputs": []
    },
    {
      "cell_type": "code",
      "metadata": {
        "id": "xrbnmSklEfnF",
        "colab_type": "code",
        "colab": {}
      },
      "source": [
        "x = np.array([1,2,3])\n",
        "y = np.array([11,12])\n",
        "Y, X = np.meshgrid(y,X)\n",
        "A=X.ravel()\n",
        "B=Y.ravel()\n",
        "xy = np.vstack([X.ravel(), Y.ravel()]).T\n"
      ],
      "execution_count": 0,
      "outputs": []
    },
    {
      "cell_type": "code",
      "metadata": {
        "id": "85GXaZamEfpV",
        "colab_type": "code",
        "outputId": "6dcd7833-212c-4dc8-cef7-a42ceba6499f",
        "colab": {
          "base_uri": "https://localhost:8080/",
          "height": 35
        }
      },
      "source": [
        "x"
      ],
      "execution_count": 0,
      "outputs": [
        {
          "output_type": "execute_result",
          "data": {
            "text/plain": [
              "array([1, 2, 3])"
            ]
          },
          "metadata": {
            "tags": []
          },
          "execution_count": 67
        }
      ]
    },
    {
      "cell_type": "code",
      "metadata": {
        "id": "DD_7qSg_Kcqa",
        "colab_type": "code",
        "outputId": "74688b17-71bb-4696-dc9d-ebe20357199f",
        "colab": {
          "base_uri": "https://localhost:8080/",
          "height": 35
        }
      },
      "source": [
        "y"
      ],
      "execution_count": 0,
      "outputs": [
        {
          "output_type": "execute_result",
          "data": {
            "text/plain": [
              "array([11, 12])"
            ]
          },
          "metadata": {
            "tags": []
          },
          "execution_count": 61
        }
      ]
    },
    {
      "cell_type": "code",
      "metadata": {
        "id": "fN0K9dcOKd2r",
        "colab_type": "code",
        "outputId": "19cebe15-8f0c-4e68-fa8f-e67e1ff0331b",
        "colab": {
          "base_uri": "https://localhost:8080/",
          "height": 121
        }
      },
      "source": [
        "xy# ravel"
      ],
      "execution_count": 0,
      "outputs": [
        {
          "output_type": "execute_result",
          "data": {
            "text/plain": [
              "array([[ 1, 11],\n",
              "       [ 1, 12],\n",
              "       [ 2, 11],\n",
              "       [ 2, 12],\n",
              "       [ 3, 11],\n",
              "       [ 3, 12]])"
            ]
          },
          "metadata": {
            "tags": []
          },
          "execution_count": 62
        }
      ]
    },
    {
      "cell_type": "code",
      "metadata": {
        "id": "wxVR2t76KfdM",
        "colab_type": "code",
        "outputId": "859b0516-6be3-44f6-f6df-666625d95b6e",
        "colab": {
          "base_uri": "https://localhost:8080/",
          "height": 69
        }
      },
      "source": [
        "X# meshgrid"
      ],
      "execution_count": 0,
      "outputs": [
        {
          "output_type": "execute_result",
          "data": {
            "text/plain": [
              "array([[1, 1],\n",
              "       [2, 2],\n",
              "       [3, 3]])"
            ]
          },
          "metadata": {
            "tags": []
          },
          "execution_count": 63
        }
      ]
    },
    {
      "cell_type": "code",
      "metadata": {
        "id": "kIrnVlsSLCEt",
        "colab_type": "code",
        "outputId": "59297fea-bdc9-466e-aa1b-27a83aac17de",
        "colab": {
          "base_uri": "https://localhost:8080/",
          "height": 69
        }
      },
      "source": [
        "Y"
      ],
      "execution_count": 0,
      "outputs": [
        {
          "output_type": "execute_result",
          "data": {
            "text/plain": [
              "array([[11, 12],\n",
              "       [11, 12],\n",
              "       [11, 12]])"
            ]
          },
          "metadata": {
            "tags": []
          },
          "execution_count": 64
        }
      ]
    },
    {
      "cell_type": "code",
      "metadata": {
        "id": "LuM2nyN0LDOE",
        "colab_type": "code",
        "outputId": "8bd44454-5f55-4540-a03f-0eb299d175f8",
        "colab": {
          "base_uri": "https://localhost:8080/",
          "height": 52
        }
      },
      "source": [
        "A# ignore this"
      ],
      "execution_count": 0,
      "outputs": [
        {
          "output_type": "execute_result",
          "data": {
            "text/plain": [
              "array([1, 1, 1, 1, 1, 1, 1, 1, 2, 2, 2, 2, 2, 2, 2, 2, 3, 3, 3, 3, 3, 3,\n",
              "       3, 3])"
            ]
          },
          "metadata": {
            "tags": []
          },
          "execution_count": 69
        }
      ]
    },
    {
      "cell_type": "code",
      "metadata": {
        "id": "x1Tpzm4EM0DL",
        "colab_type": "code",
        "outputId": "0119fa8b-d116-4121-f272-f40138b4458a",
        "colab": {
          "base_uri": "https://localhost:8080/",
          "height": 72
        }
      },
      "source": [
        "B# ignore this"
      ],
      "execution_count": 0,
      "outputs": [
        {
          "output_type": "execute_result",
          "data": {
            "text/plain": [
              "array([11, 12, 11, 12, 11, 12, 11, 12, 11, 12, 11, 12, 11, 12, 11, 12, 11,\n",
              "       12, 11, 12, 11, 12, 11, 12])"
            ]
          },
          "metadata": {
            "tags": []
          },
          "execution_count": 70
        }
      ]
    },
    {
      "cell_type": "code",
      "metadata": {
        "id": "e0f-nafrM1Gt",
        "colab_type": "code",
        "colab": {}
      },
      "source": [
        "def plot_svc_decision_function(model, ax=None, plot_support=True):\n",
        "    \"\"\"Plot the decision function for a 2D SVC\"\"\"\n",
        "    if ax is None:\n",
        "        ax = plt.gca()\n",
        "    xlim = ax.get_xlim()\n",
        "    ylim = ax.get_ylim()\n",
        "    \n",
        "    # create grid to evaluate model\n",
        "    x = np.linspace(xlim[0], xlim[1], 30)   # xlim =(x.min(),x.max())   # ylim =(y.min(),y.max())\n",
        "    y = np.linspace(ylim[0], ylim[1], 30)\n",
        "    Y, X = np.meshgrid(y, x)\n",
        "    xy = np.vstack([X.ravel(), Y.ravel()]).T\n",
        "    P = model.decision_function(xy).reshape(X.shape)\n",
        "    #plt.scatter(X.ravel(), Y.ravel(),c=model.decision_function(xy),s=50,cmap='autumn',alpha=0.15)\n",
        "    \n",
        "    # plot decision boundary and margins\n",
        "    ax.contour(X, Y, P, colors='k',\n",
        "               levels=[-1, 0, 1], alpha=0.5,\n",
        "               linestyles=['--', '-', '--'])\n",
        "    # plot support vectors\n",
        "    if plot_support:\n",
        "        ax.scatter(model.support_vectors_[:, 0],\n",
        "                   model.support_vectors_[:, 1],\n",
        "                   s=300, linewidth=1, facecolors='none');\n",
        "    ax.set_xlim(xlim)\n",
        "    ax.set_ylim(ylim)\n",
        "    "
      ],
      "execution_count": 0,
      "outputs": []
    }
  ]
}